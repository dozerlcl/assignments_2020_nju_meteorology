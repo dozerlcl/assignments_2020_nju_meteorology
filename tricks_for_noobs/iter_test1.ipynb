{
 "metadata": {
  "language_info": {
   "codemirror_mode": {
    "name": "ipython",
    "version": 3
   },
   "file_extension": ".py",
   "mimetype": "text/x-python",
   "name": "python",
   "nbconvert_exporter": "python",
   "pygments_lexer": "ipython3",
   "version": "3.7.6-final"
  },
  "orig_nbformat": 2,
  "kernelspec": {
   "name": "python37664bitfromwslconda9f4e0731b71c446bb7f7ab9be96dd060",
   "display_name": "Python 3.7.6 64-bit ('from_WSL': conda)"
  }
 },
 "nbformat": 4,
 "nbformat_minor": 2,
 "cells": [
  {
   "cell_type": "code",
   "execution_count": 2,
   "metadata": {},
   "outputs": [],
   "source": [
    "import numpy as np"
   ]
  },
  {
   "source": [
    "test for iter_test"
   ],
   "cell_type": "markdown",
   "metadata": {}
  },
  {
   "cell_type": "code",
   "execution_count": 30,
   "metadata": {},
   "outputs": [],
   "source": [
    "test_array = np.arange(0,101,2,dtype='int')\n",
    "# test_array3d = np.ones([np.size(test_array),4])\n",
    "test_array3d = np.repeat(test_array,repeats = 3,axis=0)"
   ]
  },
  {
   "cell_type": "code",
   "execution_count": 14,
   "metadata": {},
   "outputs": [
    {
     "output_type": "execute_result",
     "data": {
      "text/plain": "array([  0,   2,   4,   6,   8,  10,  12,  14,  16,  18,  20,  22,  24,\n        26,  28,  30,  32,  34,  36,  38,  40,  42,  44,  46,  48,  50,\n        52,  54,  56,  58,  60,  62,  64,  66,  68,  70,  72,  74,  76,\n        78,  80,  82,  84,  86,  88,  90,  92,  94,  96,  98, 100])"
     },
     "metadata": {},
     "execution_count": 14
    }
   ],
   "source": [
    "test_array3d"
   ]
  },
  {
   "cell_type": "code",
   "execution_count": 3,
   "metadata": {},
   "outputs": [],
   "source": [
    "iter_test = iter(test_array)"
   ]
  },
  {
   "cell_type": "code",
   "execution_count": 13,
   "metadata": {
    "tags": []
   },
   "outputs": [
    {
     "output_type": "stream",
     "name": "stdout",
     "text": "0\n1\n2\n3\n4\n5\n6\n7\n8\n9\n10\n11\n12\n13\n14\n15\n16\n17\n18\n19\n20\n21\n22\n23\n24\n25\n26\n27\n28\n29\n30\n31\n32\n33\n34\n35\n36\n37\n38\n39\n40\n41\n42\n43\n44\n45\n46\n47\n48\n49\n50\n"
    }
   ],
   "source": [
    "for number, array_for in enumerate(test_array):\n",
    "    print(number)"
   ]
  }
 ]
}