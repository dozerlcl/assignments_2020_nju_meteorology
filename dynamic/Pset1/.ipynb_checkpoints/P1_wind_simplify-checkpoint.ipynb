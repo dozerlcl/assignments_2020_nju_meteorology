{
 "cells": [
  {
   "cell_type": "code",
   "execution_count": 1,
   "metadata": {},
   "outputs": [],
   "source": [
    "import sympy as sym\n",
    "from sympy.vector import CoordSys3D, Del\n",
    "import numpy as np\n",
    "import matplotlib.pyplot as plt\n",
    "from sympy import *\n",
    "from scipy.optimize import fsolve, root\n",
    "# import sympy.vector"
   ]
  },
  {
   "cell_type": "markdown",
   "metadata": {},
   "source": [
    "符号初始化"
   ]
  },
  {
   "cell_type": "code",
   "execution_count": 2,
   "metadata": {},
   "outputs": [],
   "source": [
    "# 坐标系初始化\n",
    "N = CoordSys3D('N')\n",
    "x = N.x\n",
    "y = N.y\n",
    "z = N.z"
   ]
  },
  {
   "cell_type": "code",
   "execution_count": 3,
   "metadata": {},
   "outputs": [],
   "source": [
    "from sympy.abc import k,l,m,kappa,M,S,h\n",
    "S0 = sym.symbols('S0')\n",
    "kH = sym.symbols('kH')"
   ]
  },
  {
   "cell_type": "code",
   "execution_count": 4,
   "metadata": {},
   "outputs": [],
   "source": [
    "kH      = sym.sqrt(k**2 + l**2)\n",
    "kappa   = sym.sqrt(kH**2 + m**2)\n",
    "S = S0 * sym.cos(k*x) * sym.cos(l*y) * sym.sin(m*z)\n",
    "# 基本风分量\n",
    "u_basic = M * sym.sin(kappa*(z-h/2))\n",
    "v_basic = M * sym.cos(kappa*(z-h/2))"
   ]
  },
  {
   "cell_type": "code",
   "execution_count": 5,
   "metadata": {},
   "outputs": [],
   "source": [
    "# 扰动风分量\n",
    "u_d = sym.diff(S,z,x) + kappa*sym.diff(S,y)\n",
    "v_d = sym.diff(S,z,y) - kappa*sym.diff(S,x)\n",
    "w_d = kH**2 * S"
   ]
  },
  {
   "cell_type": "code",
   "execution_count": 6,
   "metadata": {},
   "outputs": [],
   "source": [
    "V_basic = N.i * u_basic + N.j * v_basic     # 基本风矢量\n",
    "V_d     = N.i * u_d + N.j * v_d + N.k * w_d # 扰动风矢量\n",
    "V_allin = V_basic + V_d                     # 全风场矢量"
   ]
  },
  {
   "cell_type": "code",
   "execution_count": 7,
   "metadata": {},
   "outputs": [],
   "source": [
    "delop = Del()\n",
    "curl_V_d     = delop.cross(V_d,     doit = True)  # 基本风涡度\n",
    "curl_V_basic = delop.cross(V_basic, doit = True)  # 扰动风涡度\n",
    "curl_V_allin   = delop.cross(V_allin, doit = True)# 全风场涡度V_allinV_allinV_allin\n"
   ]
  },
  {
   "cell_type": "code",
   "execution_count": 8,
   "metadata": {},
   "outputs": [
    {
     "data": {
      "text/latex": [
       "$\\displaystyle (M \\sin{\\left(\\left(\\mathbf{{z}_{N}} - \\frac{h}{2}\\right) \\sqrt{k^{2} + l^{2} + m^{2}} \\right)} - S_{0} k m \\sin{\\left(\\mathbf{{x}_{N}} k \\right)} \\cos{\\left(\\mathbf{{y}_{N}} l \\right)} \\cos{\\left(\\mathbf{{z}_{N}} m \\right)} - S_{0} l \\sqrt{k^{2} + l^{2} + m^{2}} \\sin{\\left(\\mathbf{{y}_{N}} l \\right)} \\sin{\\left(\\mathbf{{z}_{N}} m \\right)} \\cos{\\left(\\mathbf{{x}_{N}} k \\right)})\\mathbf{\\hat{i}_{N}} + (M \\cos{\\left(\\left(\\mathbf{{z}_{N}} - \\frac{h}{2}\\right) \\sqrt{k^{2} + l^{2} + m^{2}} \\right)} + S_{0} k \\sqrt{k^{2} + l^{2} + m^{2}} \\sin{\\left(\\mathbf{{x}_{N}} k \\right)} \\sin{\\left(\\mathbf{{z}_{N}} m \\right)} \\cos{\\left(\\mathbf{{y}_{N}} l \\right)} - S_{0} l m \\sin{\\left(\\mathbf{{y}_{N}} l \\right)} \\cos{\\left(\\mathbf{{x}_{N}} k \\right)} \\cos{\\left(\\mathbf{{z}_{N}} m \\right)})\\mathbf{\\hat{j}_{N}} + (S_{0} \\left(k^{2} + l^{2}\\right) \\sin{\\left(\\mathbf{{z}_{N}} m \\right)} \\cos{\\left(\\mathbf{{x}_{N}} k \\right)} \\cos{\\left(\\mathbf{{y}_{N}} l \\right)})\\mathbf{\\hat{k}_{N}}$"
      ],
      "text/plain": [
       "(M*sin((N.z - h/2)*sqrt(k**2 + l**2 + m**2)) - S0*k*m*sin(N.x*k)*cos(N.y*l)*cos(N.z*m) - S0*l*sqrt(k**2 + l**2 + m**2)*sin(N.y*l)*sin(N.z*m)*cos(N.x*k))*N.i + (M*cos((N.z - h/2)*sqrt(k**2 + l**2 + m**2)) + S0*k*sqrt(k**2 + l**2 + m**2)*sin(N.x*k)*sin(N.z*m)*cos(N.y*l) - S0*l*m*sin(N.y*l)*cos(N.x*k)*cos(N.z*m))*N.j + (S0*(k**2 + l**2)*sin(N.z*m)*cos(N.x*k)*cos(N.y*l))*N.k"
      ]
     },
     "execution_count": 8,
     "metadata": {},
     "output_type": "execute_result"
    }
   ],
   "source": [
    "V_allin"
   ]
  },
  {
   "cell_type": "code",
   "execution_count": 9,
   "metadata": {
    "scrolled": true
   },
   "outputs": [
    {
     "data": {
      "text/latex": [
       "$\\displaystyle (M \\sqrt{k^{2} + l^{2} + m^{2}} \\sin{\\left(\\left(\\mathbf{{z}_{N}} - \\frac{h}{2}\\right) \\sqrt{k^{2} + l^{2} + m^{2}} \\right)} - S_{0} k m \\sqrt{k^{2} + l^{2} + m^{2}} \\sin{\\left(\\mathbf{{x}_{N}} k \\right)} \\cos{\\left(\\mathbf{{y}_{N}} l \\right)} \\cos{\\left(\\mathbf{{z}_{N}} m \\right)} - S_{0} l m^{2} \\sin{\\left(\\mathbf{{y}_{N}} l \\right)} \\sin{\\left(\\mathbf{{z}_{N}} m \\right)} \\cos{\\left(\\mathbf{{x}_{N}} k \\right)} - S_{0} l \\left(k^{2} + l^{2}\\right) \\sin{\\left(\\mathbf{{y}_{N}} l \\right)} \\sin{\\left(\\mathbf{{z}_{N}} m \\right)} \\cos{\\left(\\mathbf{{x}_{N}} k \\right)})\\mathbf{\\hat{i}_{N}} + (M \\sqrt{k^{2} + l^{2} + m^{2}} \\cos{\\left(\\left(\\mathbf{{z}_{N}} - \\frac{h}{2}\\right) \\sqrt{k^{2} + l^{2} + m^{2}} \\right)} + S_{0} k m^{2} \\sin{\\left(\\mathbf{{x}_{N}} k \\right)} \\sin{\\left(\\mathbf{{z}_{N}} m \\right)} \\cos{\\left(\\mathbf{{y}_{N}} l \\right)} + S_{0} k \\left(k^{2} + l^{2}\\right) \\sin{\\left(\\mathbf{{x}_{N}} k \\right)} \\sin{\\left(\\mathbf{{z}_{N}} m \\right)} \\cos{\\left(\\mathbf{{y}_{N}} l \\right)} - S_{0} l m \\sqrt{k^{2} + l^{2} + m^{2}} \\sin{\\left(\\mathbf{{y}_{N}} l \\right)} \\cos{\\left(\\mathbf{{x}_{N}} k \\right)} \\cos{\\left(\\mathbf{{z}_{N}} m \\right)})\\mathbf{\\hat{j}_{N}} + (S_{0} k^{2} \\sqrt{k^{2} + l^{2} + m^{2}} \\sin{\\left(\\mathbf{{z}_{N}} m \\right)} \\cos{\\left(\\mathbf{{x}_{N}} k \\right)} \\cos{\\left(\\mathbf{{y}_{N}} l \\right)} + S_{0} l^{2} \\sqrt{k^{2} + l^{2} + m^{2}} \\sin{\\left(\\mathbf{{z}_{N}} m \\right)} \\cos{\\left(\\mathbf{{x}_{N}} k \\right)} \\cos{\\left(\\mathbf{{y}_{N}} l \\right)})\\mathbf{\\hat{k}_{N}}$"
      ],
      "text/plain": [
       "(M*sqrt(k**2 + l**2 + m**2)*sin((N.z - h/2)*sqrt(k**2 + l**2 + m**2)) - S0*k*m*sqrt(k**2 + l**2 + m**2)*sin(N.x*k)*cos(N.y*l)*cos(N.z*m) - S0*l*m**2*sin(N.y*l)*sin(N.z*m)*cos(N.x*k) - S0*l*(k**2 + l**2)*sin(N.y*l)*sin(N.z*m)*cos(N.x*k))*N.i + (M*sqrt(k**2 + l**2 + m**2)*cos((N.z - h/2)*sqrt(k**2 + l**2 + m**2)) + S0*k*m**2*sin(N.x*k)*sin(N.z*m)*cos(N.y*l) + S0*k*(k**2 + l**2)*sin(N.x*k)*sin(N.z*m)*cos(N.y*l) - S0*l*m*sqrt(k**2 + l**2 + m**2)*sin(N.y*l)*cos(N.x*k)*cos(N.z*m))*N.j + (S0*k**2*sqrt(k**2 + l**2 + m**2)*sin(N.z*m)*cos(N.x*k)*cos(N.y*l) + S0*l**2*sqrt(k**2 + l**2 + m**2)*sin(N.z*m)*cos(N.x*k)*cos(N.y*l))*N.k"
      ]
     },
     "execution_count": 9,
     "metadata": {},
     "output_type": "execute_result"
    }
   ],
   "source": [
    "curl_V_allin"
   ]
  },
  {
   "cell_type": "markdown",
   "metadata": {},
   "source": [
    "## 1 基本风矢量 和 水平涡度 之间的关系 及螺旋度的空间变化："
   ]
  },
  {
   "cell_type": "markdown",
   "metadata": {},
   "source": [
    "## 基本风矢量和水平涡度的夹角"
   ]
  },
  {
   "cell_type": "code",
   "execution_count": 10,
   "metadata": {},
   "outputs": [
    {
     "data": {
      "text/latex": [
       "$\\displaystyle \\frac{M^{2} \\sqrt{k^{2} + l^{2} + m^{2}}}{\\sqrt{M^{2} \\left(k^{2} + l^{2} + m^{2}\\right)} \\sqrt{M^{2}}}$"
      ],
      "text/plain": [
       "M**2*sqrt(k**2 + l**2 + m**2)/(sqrt(M**2*(k**2 + l**2 + m**2))*sqrt(M**2))"
      ]
     },
     "execution_count": 10,
     "metadata": {},
     "output_type": "execute_result"
    }
   ],
   "source": [
    "sym.simplify(curl_V_basic.dot(V_basic)/sqrt(curl_V_basic.dot(curl_V_basic))/sqrt(V_basic.dot(V_basic)))"
   ]
  },
  {
   "cell_type": "code",
   "execution_count": 11,
   "metadata": {},
   "outputs": [
    {
     "data": {
      "text/latex": [
       "$\\displaystyle \\frac{3 \\sqrt{3} \\pi \\sin^{2}{\\left(\\frac{\\sqrt{3} \\pi \\left(\\mathbf{{z}_{N}} - 7500\\right)}{15000} \\right)}}{200} + \\frac{3 \\sqrt{3} \\pi \\cos^{2}{\\left(\\frac{\\sqrt{3} \\pi \\left(\\mathbf{{z}_{N}} - 7500\\right)}{15000} \\right)}}{200}$"
      ],
      "text/plain": [
       "3*sqrt(3)*pi*sin(sqrt(3)*pi*(N.z - 7500)/15000)**2/200 + 3*sqrt(3)*pi*cos(sqrt(3)*pi*(N.z - 7500)/15000)**2/200"
      ]
     },
     "execution_count": 11,
     "metadata": {},
     "output_type": "execute_result"
    }
   ],
   "source": [
    "curl_V_basic.dot(V_basic).subs({k:sym.pi/h,l:sym.pi/h,m:sym.pi/h}).subs({h:15000,M:15,S0:2.25*1e9/sym.pi**2})"
   ]
  },
  {
   "cell_type": "markdown",
   "metadata": {},
   "source": [
    "可见基本风和其水平涡度是平行的，H是一个平面，就不予作图"
   ]
  },
  {
   "cell_type": "markdown",
   "metadata": {},
   "source": [
    "## 2 全风场风矢量和涡度矢之间的关系，以及螺旋度的空间变化关系"
   ]
  },
  {
   "cell_type": "code",
   "execution_count": 12,
   "metadata": {},
   "outputs": [
    {
     "data": {
      "text/latex": [
       "$\\displaystyle (- 10.0 \\sin{\\left(\\frac{\\mathbf{{x}_{N}} \\pi}{15000} \\right)} \\cos{\\left(\\frac{\\mathbf{{y}_{N}} \\pi}{15000} \\right)} \\cos{\\left(\\frac{\\mathbf{{z}_{N}} \\pi}{15000} \\right)} - 10.0 \\sqrt{3} \\sin{\\left(\\frac{\\mathbf{{y}_{N}} \\pi}{15000} \\right)} \\sin{\\left(\\frac{\\mathbf{{z}_{N}} \\pi}{15000} \\right)} \\cos{\\left(\\frac{\\mathbf{{x}_{N}} \\pi}{15000} \\right)} + 15 \\sin{\\left(\\frac{\\sqrt{3} \\pi \\left(\\mathbf{{z}_{N}} - 7500\\right)}{15000} \\right)})\\mathbf{\\hat{i}_{N}} + (10.0 \\sqrt{3} \\sin{\\left(\\frac{\\mathbf{{x}_{N}} \\pi}{15000} \\right)} \\sin{\\left(\\frac{\\mathbf{{z}_{N}} \\pi}{15000} \\right)} \\cos{\\left(\\frac{\\mathbf{{y}_{N}} \\pi}{15000} \\right)} - 10.0 \\sin{\\left(\\frac{\\mathbf{{y}_{N}} \\pi}{15000} \\right)} \\cos{\\left(\\frac{\\mathbf{{x}_{N}} \\pi}{15000} \\right)} \\cos{\\left(\\frac{\\mathbf{{z}_{N}} \\pi}{15000} \\right)} + 15 \\cos{\\left(\\frac{\\sqrt{3} \\pi \\left(\\mathbf{{z}_{N}} - 7500\\right)}{15000} \\right)})\\mathbf{\\hat{j}_{N}} + (20.0 \\sin{\\left(\\frac{\\mathbf{{z}_{N}} \\pi}{15000} \\right)} \\cos{\\left(\\frac{\\mathbf{{x}_{N}} \\pi}{15000} \\right)} \\cos{\\left(\\frac{\\mathbf{{y}_{N}} \\pi}{15000} \\right)})\\mathbf{\\hat{k}_{N}}$"
      ],
      "text/plain": [
       "(-10.0*sin(N.x*pi/15000)*cos(N.y*pi/15000)*cos(N.z*pi/15000) - 10.0*sqrt(3)*sin(N.y*pi/15000)*sin(N.z*pi/15000)*cos(N.x*pi/15000) + 15*sin(sqrt(3)*pi*(N.z - 7500)/15000))*N.i + (10.0*sqrt(3)*sin(N.x*pi/15000)*sin(N.z*pi/15000)*cos(N.y*pi/15000) - 10.0*sin(N.y*pi/15000)*cos(N.x*pi/15000)*cos(N.z*pi/15000) + 15*cos(sqrt(3)*pi*(N.z - 7500)/15000))*N.j + (20.0*sin(N.z*pi/15000)*cos(N.x*pi/15000)*cos(N.y*pi/15000))*N.k"
      ]
     },
     "execution_count": 12,
     "metadata": {},
     "output_type": "execute_result"
    }
   ],
   "source": [
    "V_allin.subs({k:sym.pi/h,l:sym.pi/h,m:sym.pi/h}).subs({h:15000,M:15,S0:2.25*1e9/sym.pi**2,M:15})\n",
    "# factor(curl_V_bas)"
   ]
  },
  {
   "cell_type": "code",
   "execution_count": 13,
   "metadata": {},
   "outputs": [
    {
     "data": {
      "text/latex": [
       "$\\displaystyle (- 0.00362759872846844 \\sin{\\left(\\frac{\\mathbf{{x}_{N}} \\pi}{15000} \\right)} \\cos{\\left(\\frac{\\mathbf{{y}_{N}} \\pi}{15000} \\right)} \\cos{\\left(\\frac{\\mathbf{{z}_{N}} \\pi}{15000} \\right)} - 0.00628318530717959 \\sin{\\left(\\frac{\\mathbf{{y}_{N}} \\pi}{15000} \\right)} \\sin{\\left(\\frac{\\mathbf{{z}_{N}} \\pi}{15000} \\right)} \\cos{\\left(\\frac{\\mathbf{{x}_{N}} \\pi}{15000} \\right)} + 0.00544139809270265 \\sin{\\left(\\frac{\\sqrt{3} \\pi \\left(\\mathbf{{z}_{N}} - 7500\\right)}{15000} \\right)})\\mathbf{\\hat{i}_{N}} + (0.00628318530717959 \\sin{\\left(\\frac{\\mathbf{{x}_{N}} \\pi}{15000} \\right)} \\sin{\\left(\\frac{\\mathbf{{z}_{N}} \\pi}{15000} \\right)} \\cos{\\left(\\frac{\\mathbf{{y}_{N}} \\pi}{15000} \\right)} - 0.00362759872846844 \\sin{\\left(\\frac{\\mathbf{{y}_{N}} \\pi}{15000} \\right)} \\cos{\\left(\\frac{\\mathbf{{x}_{N}} \\pi}{15000} \\right)} \\cos{\\left(\\frac{\\mathbf{{z}_{N}} \\pi}{15000} \\right)} + 0.00544139809270265 \\cos{\\left(\\frac{\\sqrt{3} \\pi \\left(\\mathbf{{z}_{N}} - 7500\\right)}{15000} \\right)})\\mathbf{\\hat{j}_{N}} + (0.00725519745693687 \\sin{\\left(\\frac{\\mathbf{{z}_{N}} \\pi}{15000} \\right)} \\cos{\\left(\\frac{\\mathbf{{x}_{N}} \\pi}{15000} \\right)} \\cos{\\left(\\frac{\\mathbf{{y}_{N}} \\pi}{15000} \\right)})\\mathbf{\\hat{k}_{N}}$"
      ],
      "text/plain": [
       "(-0.00362759872846844*sin(N.x*pi/15000)*cos(N.y*pi/15000)*cos(N.z*pi/15000) - 0.00628318530717959*sin(N.y*pi/15000)*sin(N.z*pi/15000)*cos(N.x*pi/15000) + 0.00544139809270265*sin(sqrt(3)*pi*(N.z - 7500)/15000))*N.i + (0.00628318530717959*sin(N.x*pi/15000)*sin(N.z*pi/15000)*cos(N.y*pi/15000) - 0.00362759872846844*sin(N.y*pi/15000)*cos(N.x*pi/15000)*cos(N.z*pi/15000) + 0.00544139809270265*cos(sqrt(3)*pi*(N.z - 7500)/15000))*N.j + (0.00725519745693687*sin(N.z*pi/15000)*cos(N.x*pi/15000)*cos(N.y*pi/15000))*N.k"
      ]
     },
     "execution_count": 13,
     "metadata": {},
     "output_type": "execute_result"
    }
   ],
   "source": [
    "curl_V_allin.subs({k:sym.pi/h,l:sym.pi/h,m:sym.pi/h}).subs({h:15000,M:15,S0:2.25*1e9/sym.pi**2,M:15}).evalf()"
   ]
  },
  {
   "cell_type": "markdown",
   "metadata": {},
   "source": [
    "### 计算全风速涡度和速度之间的夹角"
   ]
  },
  {
   "cell_type": "code",
   "execution_count": 16,
   "metadata": {},
   "outputs": [],
   "source": [
    "V_allin_counta = V_d.subs({k:sym.pi/h,l:sym.pi/h,m:sym.pi/h}).subs({h:15000,M:15,S0:2.25*1e9/sym.pi**2,M:15})\n",
    "curl_V_allin_counta = curl_V_allin.subs({k:sym.pi/h,l:sym.pi/h,m:sym.pi/h}).subs({h:15000,M:15,S0:2.25*1e9/sym.pi**2,M:15})"
   ]
  },
  {
   "cell_type": "code",
   "execution_count": 20,
   "metadata": {},
   "outputs": [],
   "source": [
    "count_a_res = V_allin_counta.dot(curl_V_allin_counta)/\\\n",
    "sym.sqrt(V_allin_counta.dot(V_allin_counta)/\\\n",
    "sym.sqrt(curl_V_allin_counta.dot(curl_V_allin_counta)))"
   ]
  },
  {
   "cell_type": "code",
   "execution_count": 21,
   "metadata": {},
   "outputs": [],
   "source": [
    "import numpy as np\n",
    "angle_res = np.empty([11,11])\n",
    "for xind,xin in enumerate(np.linspace(0,100000,11)):\n",
    "    for yind,yin in enumerate(np.linspace(0,100000,11)):\n",
    "        angle_res[xind,yind] = count_a_res.subs({x:xin,y:yin,z:1500}).evalf()"
   ]
  },
  {
   "cell_type": "markdown",
   "metadata": {},
   "source": [
    "### 简单展示这个范围内计算出来的夹角的分布 说明其平行\n",
    "0-40°不等，使用分位数函数"
   ]
  },
  {
   "cell_type": "code",
   "execution_count": 23,
   "metadata": {},
   "outputs": [
    {
     "data": {
      "text/plain": [
       "array([89.95579307, 89.96207169, 89.97054208, 89.98025549, 89.99014552,\n",
       "       89.99447616, 89.99687474, 90.00328352, 90.00829672, 90.00829672])"
      ]
     },
     "execution_count": 23,
     "metadata": {},
     "output_type": "execute_result"
    }
   ],
   "source": [
    "# np.max(np.arccos(angle_res)/np.pi*180)\n",
    "np.quantile(np.arccos(angle_res)/np.pi*180,np.linspace(0.1,1,10))"
   ]
  },
  {
   "cell_type": "markdown",
   "metadata": {},
   "source": [
    "全风速螺旋度（带入系数）"
   ]
  },
  {
   "cell_type": "code",
   "execution_count": null,
   "metadata": {
    "tags": []
   },
   "outputs": [],
   "source": [
    "H_allin = V_allin.dot(curl_V_allin)\n",
    "# sym.simplify(H_allin)\n",
    "simplify(H_allin.subs({k:sym.pi/h,l:sym.pi/h,m:sym.pi/h}).subs({h:15000,M:15,S0:2.25*1e9/sym.pi**2,M:15}))"
   ]
  },
  {
   "cell_type": "code",
   "execution_count": null,
   "metadata": {},
   "outputs": [],
   "source": [
    "H_allin_sub = H_allin.subs({k:sym.pi/h,l:sym.pi/h,m:sym.pi/h})\n",
    "H_allin_sub = H_allin_sub.subs({h:15000,M:15,S0:2.25*1e9/sym.pi**2,M:15})"
   ]
  },
  {
   "cell_type": "markdown",
   "metadata": {},
   "source": [
    "作图 z取在100，x、y范围为0-20000"
   ]
  },
  {
   "cell_type": "code",
   "execution_count": null,
   "metadata": {},
   "outputs": [],
   "source": [
    "from sympy.plotting import plot3d\n",
    "x_plotx = symbols('x')\n",
    "y_ploty = symbols('y')\n",
    "plot3d(H_allin_sub.subs({x:x_plotx,y:y_ploty,z:100}),(x_plotx,-20000,20000),(y_ploty,-20000,20000))"
   ]
  },
  {
   "cell_type": "markdown",
   "metadata": {},
   "source": [
    "## 计算运动轨迹\n",
    "因为是定常流场，所以流线和迹线是重合的(?)\n",
    "所以直接使用流线的分布图进行绘制"
   ]
  },
  {
   "cell_type": "code",
   "execution_count": null,
   "metadata": {},
   "outputs": [],
   "source": [
    "# 全风速带入常数\n",
    "V_allin_count = V_allin.subs({k:sym.pi/h,l:sym.pi/h,m:sym.pi/h}).subs({h:15000,M:15,S0:2.25*1e9/sym.pi**2,M:15})\n",
    "V_allin_count"
   ]
  },
  {
   "cell_type": "code",
   "execution_count": null,
   "metadata": {},
   "outputs": [],
   "source": [
    "import numpy as np\n",
    "x_count = np.linspace(0,10000,11)\n",
    "y_count = np.linspace(0,10000,11)\n",
    "z_count = np.linspace(0,1000,11)\n",
    "N = CoordSys3D('N')\n",
    "u_count = V_allin_count.dot(N.i)\n",
    "v_count = V_allin_count.dot(N.j)\n",
    "w_count = V_allin_count.dot(N.k)\n",
    "# V_allin_count.subs({x:})"
   ]
  },
  {
   "cell_type": "code",
   "execution_count": null,
   "metadata": {},
   "outputs": [],
   "source": [
    "u_stream = np.empty([11,11,11])\n",
    "v_stream = np.empty([11,11,11])\n",
    "w_stream = np.empty([11,11,11])\n",
    "for xind,xin in enumerate(np.linspace(0,100000,11)):\n",
    "    for yind,yin in enumerate(np.linspace(0,100000,11)):\n",
    "        for zind,zin in enumerate(np.linspace(0,10000,11)):\n",
    "            u_stream[xind,yind,zind] = u_count.subs({x:xin,y:yin,z:zin}).evalf()\n",
    "            v_stream[xind,yind,zind] = v_count.subs({x:xin,y:yin,z:zin}).evalf()\n",
    "            w_stream[xind,yind,zind] = w_count.subs({x:xin,y:yin,z:zin}).evalf()\n",
    "            "
   ]
  },
  {
   "cell_type": "markdown",
   "metadata": {},
   "source": [
    "使用matplotlib画2D流图"
   ]
  },
  {
   "cell_type": "code",
   "execution_count": null,
   "metadata": {},
   "outputs": [],
   "source": [
    "import numpy as np\n",
    "import matplotlib.pyplot as plt\n",
    "import matplotlib.gridspec as gridspec\n",
    "\n",
    "fig = plt.figure(figsize=(18, 6))\n",
    "gs = gridspec.GridSpec(nrows=1, ncols=3)\n",
    "\n",
    "ax1 = fig.add_subplot(gs[0])\n",
    "strm = ax1.streamplot(x_count, y_count, u_stream[:,:,2], v_stream[:,:,2], color=u_stream[:,:,2], linewidth=2, cmap='autumn')\n",
    "fig.colorbar(strm.lines)\n",
    "ax1.set_title('x-y')\n",
    "\n",
    "ax3 = fig.add_subplot(gs[1])\n",
    "strm = ax3.streamplot(x_count, z_count, u_stream[:,0,:], w_stream[:,0,:], color=u_stream[:,:,2], linewidth=2, cmap='autumn')\n",
    "fig.colorbar(strm.lines)\n",
    "ax3.set_title('x-z')\n",
    "\n",
    "ax5 = fig.add_subplot(gs[2])\n",
    "strm = ax5.streamplot(y_count, z_count, v_stream[0,:,:], w_stream[0,:,:], color=u_stream[:,:,2], linewidth=2, cmap='autumn')\n",
    "fig.colorbar(strm.lines)\n",
    "ax5.set_title('y-z')"
   ]
  }
 ],
 "metadata": {
  "kernelspec": {
   "display_name": "Python 3.7.6 64-bit ('from_WSL': conda)",
   "language": "python",
   "name": "python37664bitfromwslconda9f4e0731b71c446bb7f7ab9be96dd060"
  },
  "language_info": {
   "codemirror_mode": {
    "name": "ipython",
    "version": 3
   },
   "file_extension": ".py",
   "mimetype": "text/x-python",
   "name": "python",
   "nbconvert_exporter": "python",
   "pygments_lexer": "ipython3",
   "version": "3.7.6"
  }
 },
 "nbformat": 4,
 "nbformat_minor": 4
}
