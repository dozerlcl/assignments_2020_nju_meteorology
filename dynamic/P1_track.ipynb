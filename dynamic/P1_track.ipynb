{
 "cells": [
  {
   "cell_type": "markdown",
   "metadata": {},
   "source": [
    "简单算下方程的解，似乎这个ODE非常难处理\n",
    "<br> dx/dt = a * cos(x) + b * sin(x) + cm"
   ]
  },
  {
   "cell_type": "code",
   "execution_count": 8,
   "metadata": {},
   "outputs": [],
   "source": [
    "import sympy as sym\n",
    "from sympy import *\n"
   ]
  },
  {
   "cell_type": "code",
   "execution_count": 11,
   "metadata": {},
   "outputs": [
    {
     "data": {
      "text/latex": [
       "$\\displaystyle - 1.0 \\int\\limits^{f{\\left(x \\right)}} \\frac{1}{1.0 a \\sin{\\left(y \\right)} + 0.00030210321 \\cos{\\left(y \\right)}}\\, dy = C_{1} - x$"
      ],
      "text/plain": [
       "Eq(-1.0*Integral(1/(1.0*a*sin(_y) + 0.00030210321*cos(_y)), (_y, f(x))), C1 - x)"
      ]
     },
     "execution_count": 11,
     "metadata": {},
     "output_type": "execute_result"
    }
   ],
   "source": [
    "x = sym.symbols('x')\n",
    "y = sym.symbols('y')\n",
    "a = sym.symbols('a')\n",
    "b = sym.symbols('b')\n",
    "f = sym.Function('f')(x)\n",
    "f.diff(x)\n",
    "# 积分迹线给出的方程是相对困难的\n",
    "dsolve(f.diff(x)-a*sin(f)-0.00030210321*cos(f))"
   ]
  }
 ],
 "metadata": {
  "kernelspec": {
   "display_name": "Python 3.7.6 64-bit ('from_WSL')",
   "language": "python",
   "name": "python37664bitfromwsla20dd70eb6634bba8aa075bcfe796a34"
  },
  "language_info": {
   "codemirror_mode": {
    "name": "ipython",
    "version": 3
   },
   "file_extension": ".py",
   "mimetype": "text/x-python",
   "name": "python",
   "nbconvert_exporter": "python",
   "pygments_lexer": "ipython3",
   "version": "3.7.6"
  }
 },
 "nbformat": 4,
 "nbformat_minor": 4
}
