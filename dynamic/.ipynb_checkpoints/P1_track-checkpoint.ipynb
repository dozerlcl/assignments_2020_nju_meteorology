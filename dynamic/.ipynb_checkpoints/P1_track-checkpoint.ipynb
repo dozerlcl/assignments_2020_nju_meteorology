{
 "metadata": {
  "language_info": {
   "codemirror_mode": {
    "name": "ipython",
    "version": 3
   },
   "file_extension": ".py",
   "mimetype": "text/x-python",
   "name": "python",
   "nbconvert_exporter": "python",
   "pygments_lexer": "ipython3",
   "version": "3.7.6-final"
  },
  "orig_nbformat": 2,
  "kernelspec": {
   "name": "python37664bitfromwsla20dd70eb6634bba8aa075bcfe796a34",
   "display_name": "Python 3.7.6 64-bit ('from_WSL')"
  }
 },
 "nbformat": 4,
 "nbformat_minor": 2,
 "cells": [
  {
   "source": [
    "简单算下方程的解，似乎这个ODE非常难处理\n",
    "<br> dx/dt = a * cos(x) + b * sin(x) + cm"
   ],
   "cell_type": "markdown",
   "metadata": {}
  },
  {
   "cell_type": "code",
   "execution_count": 10,
   "metadata": {},
   "outputs": [],
   "source": [
    "# import sympy as sym\n",
    "from sympy import *"
   ]
  },
  {
   "cell_type": "code",
   "execution_count": 25,
   "metadata": {},
   "outputs": [
    {
     "output_type": "execute_result",
     "data": {
      "text/plain": "Eq(-812.141845446158*Integral(1/(1.0*sin(_y) + 0.245350658484608*cos(_y)), (_y, f(100))), C1 - 100)",
      "text/latex": "$\\displaystyle - 812.141845446158 \\int\\limits^{f{\\left(100 \\right)}} \\frac{1}{1.0 \\sin{\\left(y \\right)} + 0.245350658484608 \\cos{\\left(y \\right)}}\\, dy = C_{1} - 100$"
     },
     "metadata": {},
     "execution_count": 25
    }
   ],
   "source": [
    "x = sym.symbols('x')\n",
    "y = sym.symbols('y')\n",
    "a = sym.symbols('a')\n",
    "b = sym.symbols('b')\n",
    "f = sym.Function('f')(x)\n",
    "f.diff(x)\n",
    "dsolve(f.diff(x)-0.001231312*sin(f)-0.00030210321*cos(f)))"
   ]
  }
 ]
}