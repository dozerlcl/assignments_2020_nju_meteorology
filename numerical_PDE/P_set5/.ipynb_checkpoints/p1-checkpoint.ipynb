{
 "cells": [
  {
   "cell_type": "code",
   "execution_count": 1,
   "metadata": {},
   "outputs": [],
   "source": [
    "import numpy as np\n",
    "# import sympy as symb\n",
    "# from sympy import sin,cos\n",
    "# from scipy.optimize import fsolve, root\n",
    "import matplotlib.pyplot as plt\n",
    "import copy"
   ]
  },
  {
   "cell_type": "code",
   "execution_count": 69,
   "metadata": {},
   "outputs": [],
   "source": [
    "domainlx = 152     # from -1 to 1\n",
    "domainly = 32      # from -1 to 1\n",
    "gridnx   = 153 # 151 grids 1-151; 0 152 index for ghost point\n",
    "gridny   = 33  # 31  grids 1-31; 0 32  index for ghost point\n",
    "D       = 0.5\n",
    "# r       = 0.45 # D * delta t / delta x ^2\n",
    "dx      = 1.\n",
    "dy      = 1.\n",
    "u       = 0.4\n",
    "v       = 0\n",
    "# dt      = \n",
    "B_con      = np.zeros((gridnx,gridny))    \n",
    "O_con       = np.zeros((gridnx,gridny))\n",
    "# B_con = 0.\n",
    "# O_con = \n",
    "kr = 0.01\n",
    "ka = 0.02\n",
    "osat = 8 # \n",
    "qb = 70 # mg / s \n",
    "# steady state:\n",
    "# delta function at 10m 15m\n",
    "B_con[int(10./dx)+1,int(15./dy)+1] = qb/dx/dy"
   ]
  },
  {
   "cell_type": "code",
   "execution_count": 70,
   "metadata": {},
   "outputs": [],
   "source": [
    "\n",
    "gridt   = 1    #\n",
    "\n",
    "for it in range(0,gridt):\n",
    "    # B.C. and ghost point\n",
    "    # domain x: 1-151 y:1-31 ; ghost point x: 0,152 ; y: 0,32\n",
    "    # inflow\n",
    "    B_con[2,:]   = -B_con[0,:]\n",
    "    B_con[1,:]   = 0.\n",
    "    # outflow\n",
    "    B_con[152,:] = B_con[150,:]\n",
    "    # soild boundary v = 0\n",
    "    B_con[:,0]   = 0\n",
    "    B_con[:,32]  = 0\n",
    "    #\n",
    "    for i in range(1,gridnx-1):\n",
    "        for j in range(1,gridny-1):\n",
    "            B_con[i, j]=( B_con[i+1, j]+B_con[i-1, j]+B_con[i,j+1]+B_con[i,j-1]-u*dx/2/D*(B_con[i+1,j]-B_con[i-1,j]) ) / (2 + kr*dx**2)\n",
    "            "
   ]
  },
  {
   "cell_type": "code",
   "execution_count": null,
   "metadata": {},
   "outputs": [],
   "source": []
  }
 ],
 "metadata": {
  "kernelspec": {
   "display_name": "Python 3.7.6 64-bit ('from_WSL')",
   "language": "python",
   "name": "python37664bitfromwsla20dd70eb6634bba8aa075bcfe796a34"
  },
  "language_info": {
   "codemirror_mode": {
    "name": "ipython",
    "version": 3
   },
   "file_extension": ".py",
   "mimetype": "text/x-python",
   "name": "python",
   "nbconvert_exporter": "python",
   "pygments_lexer": "ipython3",
   "version": "3.7.6"
  }
 },
 "nbformat": 4,
 "nbformat_minor": 4
}
