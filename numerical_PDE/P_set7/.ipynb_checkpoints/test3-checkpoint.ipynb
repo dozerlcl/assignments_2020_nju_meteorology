{
 "cells": [
  {
   "cell_type": "code",
   "execution_count": 1,
   "metadata": {},
   "outputs": [],
   "source": [
    "import numpy as np\n",
    "# import sympy as symb\n",
    "# from sympy import sin,cos\n",
    "# from scipy.optimize import fsolve, root\n",
    "import matplotlib.pyplot as plt\n",
    "import copy"
   ]
  },
  {
   "cell_type": "markdown",
   "metadata": {},
   "source": [
    "处理C问的V-cycle"
   ]
  },
  {
   "cell_type": "code",
   "execution_count": 117,
   "metadata": {},
   "outputs": [],
   "source": [
    "def gc(phi = np.zeros([64+1])):\n",
    "    # 进行单步 G-S\n",
    "    # k=4\n",
    "    # N=64 # 64 grids 65 points\n",
    "    N = phi.shape[0] - 1\n",
    "    iter_num = 1 # only once   \n",
    "    residual = np.zeros([N+1])\n",
    "    # residual_max = np.zeros([iter_num])\n",
    "    # print(phi[0,64])\n",
    "    delta = 1./(N)\n",
    "    x_series = np.linspace(0,1,N+1)\n",
    "    # (x_series[1] - x_series[0])*65\n",
    "\n",
    "    for j in range(1,N):\n",
    "        # phi[t+1,j]=0.5*( phi[t,j+1] + phi[t+1,j-1] - delta**2*np.sin(k*np.pi*j*delta) )\n",
    "        phi[j] = 0.5*(phi[j+1] + phi[j-1]) - 0.25*delta**2*(0.5*(np.sin(np.pi*j*delta)+np.sin(16*np.pi*j*delta)))\n",
    "    # add max residual max every iter #\n",
    "    for j in range(1,N):\n",
    "        residual[j] = 0.5*(np.sin(np.pi*j*delta)+np.sin(np.pi*16*j*delta) ) - (phi[j+1]-2*phi[j]+phi[j-1])/delta**2\n",
    "        # find max residual\n",
    "        # residual_max[t+1]  = max( abs(residual[t+1,:]) )\n",
    "    # phi[990,:]\n",
    "    \n",
    "    return phi,residual"
   ]
  },
  {
   "cell_type": "markdown",
   "metadata": {},
   "source": [
    "插值函数"
   ]
  },
  {
   "cell_type": "code",
   "execution_count": 118,
   "metadata": {},
   "outputs": [
    {
     "name": "stdout",
     "output_type": "stream",
     "text": [
      "down -> new phi dimension is 33\n",
      "up   -> new phi dimension is 65\n"
     ]
    },
    {
     "data": {
      "text/plain": [
       "array([        nan, -0.40048526, -0.3791086 , -0.46297486, -0.34698276,\n",
       "       -2.897009  , -0.47403718, -0.97846662, -0.31392479, -0.38786431,\n",
       "       -0.36551764, -0.42073055, -0.33967268, -0.23371009, -0.13361224,\n",
       "        0.02027462, -0.32607703, -0.36934421, -0.35718831, -0.39881071,\n",
       "       -0.33779926, -0.27935675, -0.26341606, -0.16805316, -0.32833205,\n",
       "       -0.3626744 , -0.35379176, -0.39012889, -0.33715582, -0.29014815,\n",
       "       -0.28064166, -0.20050497, -0.32890232, -0.3608923 , -0.35299497,\n",
       "       -0.38861039, -0.33709441, -0.29014282, -0.27866775, -0.19103553,\n",
       "       -0.32857306, -0.36267893, -0.35435449, -0.39338312, -0.33756631,\n",
       "       -0.27933332, -0.25239609, -0.11720733, -0.32693028, -0.36935935,\n",
       "       -0.35865411, -0.40738917, -0.33901346, -0.23357611,  0.1425592 ,\n",
       "        1.08252077, -0.3198547 , -0.38824745, -0.36928165, -0.44315704,\n",
       "       -0.34413318, -1.39315335, -0.45997308, -0.69555845,         nan])"
      ]
     },
     "execution_count": 118,
     "metadata": {},
     "output_type": "execute_result"
    }
   ],
   "source": [
    "def crouse(phi,factor=2):\n",
    "    # finer[N=64] -> crouser[N=32]\n",
    "    N = int( phi.shape[0] )\n",
    "    need_dims = int( ( (phi.shape[0])-1 ) / factor )\n",
    "    phi_new = np.zeros(need_dims+1)\n",
    "    print(\"down -> new phi dimension is \"+ str( phi_new.shape[0] )   )\n",
    "    for j in range(1,need_dims):\n",
    "        phi_new[j] = 0.25 * (phi[2*j-1] + 2*phi[2*j] + phi[2*j+1])\n",
    "    \n",
    "    # print(j)\n",
    "    return phi_new\n",
    "\n",
    "def fine(phi,factor=2):\n",
    "    # crouser[N=32] -> finer[N=64] \n",
    "    N = int( phi.shape[0] )\n",
    "    need_dims = int( ( (phi.shape[0])-1 ) * factor )\n",
    "    phi_new = np.zeros(need_dims+1)\n",
    "    print(\"up   -> new phi dimension is \"+ str( phi_new.shape[0] )   )\n",
    "    for j in range(0,N-1):\n",
    "        phi_new[2*j]     = phi[j]\n",
    "        phi_new[2*j + 1] = 0.5 * (phi[j] + phi[j+1])\n",
    "    \n",
    "    # print(j)\n",
    "    return phi_new\n",
    "# check error, during down and up (%)\n",
    "( fine(crouse(gc()[0])) - gc()[0] )/ gc()[0]"
   ]
  },
  {
   "cell_type": "code",
   "execution_count": 151,
   "metadata": {},
   "outputs": [
    {
     "ename": "SyntaxError",
     "evalue": "invalid syntax (<ipython-input-151-ae9d4f0c2a56>, line 14)",
     "output_type": "error",
     "traceback": [
      "\u001b[0;36m  File \u001b[0;32m\"<ipython-input-151-ae9d4f0c2a56>\"\u001b[0;36m, line \u001b[0;32m14\u001b[0m\n\u001b[0;31m    residual_steps.append(gc(phi_steps[t][1])\u001b[0m\n\u001b[0m                 ^\u001b[0m\n\u001b[0;31mSyntaxError\u001b[0m\u001b[0;31m:\u001b[0m invalid syntax\n"
     ]
    }
   ],
   "source": [
    "fact_N = [2,4,8,16,32,64]\n",
    "\n",
    "phi_init  = np.zeros([65])\n",
    "# spin-up\n",
    "phi_steps = phi_init \n",
    "\n",
    "iternum_vcycle = 100\n",
    "# phi for every v-cycle\n",
    "for t in range(0,iternum_vcycle-1):\n",
    "    # count G-S\n",
    "    phi_steps, residual_steps = gc(phi_steps)\n",
    "\n",
    "    # spin-up for v-cycle\n",
    "    residual_update = residual_steps\n",
    "    # residual_update,next_update  = g\n",
    "\n",
    "    for i in range(len(fact_N),1,-1):\n",
    "        #down\n",
    "        residual_update = crouse(residual_update)\n",
    "        #count\n",
    "        residual_update = gc(residual_update)[1]\n",
    "\n",
    "    #pass to finer\n",
    "        residual_finer  = residual_update\n",
    "    #up\n",
    "    for i in range(len(fact_N),1,-1):\n",
    "        residual_finer   = fine(residual_finer)\n",
    "    # add into phi_steps\n",
    "    phi_steps = phi_steps + residual_finer\n",
    "\n"
   ]
  },
  {
   "cell_type": "code",
   "execution_count": 146,
   "metadata": {},
   "outputs": [
    {
     "data": {
      "text/plain": [
       "array([0.       , 0.0078125, 0.015625 , 0.0234375, 0.03125  , 0.0390625,\n",
       "       0.046875 , 0.0546875, 0.0625   , 0.0703125, 0.078125 , 0.0859375,\n",
       "       0.09375  , 0.1015625, 0.109375 , 0.1171875, 0.125    , 0.1328125,\n",
       "       0.140625 , 0.1484375, 0.15625  , 0.1640625, 0.171875 , 0.1796875,\n",
       "       0.1875   , 0.1953125, 0.203125 , 0.2109375, 0.21875  , 0.2265625,\n",
       "       0.234375 , 0.2421875, 0.25     , 0.2421875, 0.234375 , 0.2265625,\n",
       "       0.21875  , 0.2109375, 0.203125 , 0.1953125, 0.1875   , 0.1796875,\n",
       "       0.171875 , 0.1640625, 0.15625  , 0.1484375, 0.140625 , 0.1328125,\n",
       "       0.125    , 0.1171875, 0.109375 , 0.1015625, 0.09375  , 0.0859375,\n",
       "       0.078125 , 0.0703125, 0.0625   , 0.0546875, 0.046875 , 0.0390625,\n",
       "       0.03125  , 0.0234375, 0.015625 , 0.0078125, 0.       ])"
      ]
     },
     "execution_count": 146,
     "metadata": {},
     "output_type": "execute_result"
    }
   ],
   "source": [
    "residual_finer"
   ]
  },
  {
   "cell_type": "code",
   "execution_count": 132,
   "metadata": {},
   "outputs": [
    {
     "data": {
      "text/plain": [
       "array([         nan,   0.03996636,   0.0630623 ,  -0.08677698,\n",
       "        -1.67764381,   0.04082181,  -0.2690177 ,  -2.24233074,\n",
       "         1.37958303,   0.56811991,   0.43652185,   0.39475287,\n",
       "         0.53775925,  -6.80172932,  -2.69520101,   4.90161005,\n",
       "         1.24323037,   0.67160478,   0.54589537,   0.52930217,\n",
       "         0.71241728,   3.13258756,  13.8175942 ,   2.55494642,\n",
       "         1.18998551,   0.71174694,   0.59173599,   0.58081584,\n",
       "         0.75903123,   2.29624448,   5.19899768,   2.24617993,\n",
       "         1.17577385,   0.72113463,   0.59989033,   0.58575347,\n",
       "         0.75861511,   2.3739372 ,   6.4323444 ,   2.41501864,\n",
       "         1.18933246,   0.70462203,   0.57385003,   0.54700307,\n",
       "         0.71130436,   3.90125371, -12.22754117,   3.69179583,\n",
       "         1.24293962,   0.65458197,   0.50323368,   0.44283231,\n",
       "         0.54391103,  -2.20123438,  -1.00540983,  -5.7748875 ,\n",
       "         1.41452519,   0.541459  ,   0.35326807,   0.20085317,\n",
       "        -0.89691633,   0.13229099,   0.06096428,   0.06742533,\n",
       "                nan])"
      ]
     },
     "execution_count": 132,
     "metadata": {},
     "output_type": "execute_result"
    }
   ],
   "source": [
    "(residual_finer / phi_steps) / (residual_steps / phi_steps)"
   ]
  }
 ],
 "metadata": {
  "kernelspec": {
   "display_name": "Python 3.7.6 64-bit ('from_WSL': conda)",
   "language": "python",
   "name": "python37664bitfromwslconda9f4e0731b71c446bb7f7ab9be96dd060"
  },
  "language_info": {
   "codemirror_mode": {
    "name": "ipython",
    "version": 3
   },
   "file_extension": ".py",
   "mimetype": "text/x-python",
   "name": "python",
   "nbconvert_exporter": "python",
   "pygments_lexer": "ipython3",
   "version": "3.7.6"
  }
 },
 "nbformat": 4,
 "nbformat_minor": 4
}
