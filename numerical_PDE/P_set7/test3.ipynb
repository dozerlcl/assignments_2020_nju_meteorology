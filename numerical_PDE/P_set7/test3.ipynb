{
 "cells": [
  {
   "cell_type": "code",
   "execution_count": 1,
   "metadata": {},
   "outputs": [],
   "source": [
    "import numpy as np\n",
    "# import sympy as symb\n",
    "# from sympy import sin,cos\n",
    "# from scipy.optimize import fsolve, root\n",
    "import matplotlib.pyplot as plt\n",
    "import copy"
   ]
  },
  {
   "cell_type": "markdown",
   "metadata": {},
   "source": [
    "处理C问的V-cycle"
   ]
  },
  {
   "cell_type": "code",
   "execution_count": 117,
   "metadata": {},
   "outputs": [],
   "source": [
    "def gc(phi = np.zeros([64+1])):\n",
    "    # 进行单步 G-S\n",
    "    # k=4\n",
    "    # N=64 # 64 grids 65 points\n",
    "    N = phi.shape[0] - 1\n",
    "    iter_num = 1 # only once   \n",
    "    residual = np.zeros([N+1])\n",
    "    # residual_max = np.zeros([iter_num])\n",
    "    # print(phi[0,64])\n",
    "    delta = 1./(N)\n",
    "    x_series = np.linspace(0,1,N+1)\n",
    "    # (x_series[1] - x_series[0])*65\n",
    "\n",
    "    for j in range(1,N):\n",
    "        # phi[t+1,j]=0.5*( phi[t,j+1] + phi[t+1,j-1] - delta**2*np.sin(k*np.pi*j*delta) )\n",
    "        phi[j] = 0.5*(phi[j+1] + phi[j-1]) - 0.25*delta**2*(0.5*(np.sin(np.pi*j*delta)+np.sin(16*np.pi*j*delta)))\n",
    "    # add max residual max every iter #\n",
    "    for j in range(1,N):\n",
    "        residual[j] = 0.5*(np.sin(np.pi*j*delta)+np.sin(np.pi*16*j*delta) ) - (phi[j+1]-2*phi[j]+phi[j-1])/delta**2\n",
    "        # find max residual\n",
    "        # residual_max[t+1]  = max( abs(residual[t+1,:]) )\n",
    "    # phi[990,:]\n",
    "    \n",
    "    return phi,residual"
   ]
  },
  {
   "cell_type": "markdown",
   "metadata": {},
   "source": [
    "插值函数"
   ]
  },
  {
   "cell_type": "code",
   "execution_count": 118,
   "metadata": {},
   "outputs": [
    {
     "name": "stdout",
     "output_type": "stream",
     "text": [
      "down -> new phi dimension is 33\n",
      "up   -> new phi dimension is 65\n"
     ]
    },
    {
     "data": {
      "text/plain": [
       "array([        nan, -0.40048526, -0.3791086 , -0.46297486, -0.34698276,\n",
       "       -2.897009  , -0.47403718, -0.97846662, -0.31392479, -0.38786431,\n",
       "       -0.36551764, -0.42073055, -0.33967268, -0.23371009, -0.13361224,\n",
       "        0.02027462, -0.32607703, -0.36934421, -0.35718831, -0.39881071,\n",
       "       -0.33779926, -0.27935675, -0.26341606, -0.16805316, -0.32833205,\n",
       "       -0.3626744 , -0.35379176, -0.39012889, -0.33715582, -0.29014815,\n",
       "       -0.28064166, -0.20050497, -0.32890232, -0.3608923 , -0.35299497,\n",
       "       -0.38861039, -0.33709441, -0.29014282, -0.27866775, -0.19103553,\n",
       "       -0.32857306, -0.36267893, -0.35435449, -0.39338312, -0.33756631,\n",
       "       -0.27933332, -0.25239609, -0.11720733, -0.32693028, -0.36935935,\n",
       "       -0.35865411, -0.40738917, -0.33901346, -0.23357611,  0.1425592 ,\n",
       "        1.08252077, -0.3198547 , -0.38824745, -0.36928165, -0.44315704,\n",
       "       -0.34413318, -1.39315335, -0.45997308, -0.69555845,         nan])"
      ]
     },
     "execution_count": 118,
     "metadata": {},
     "output_type": "execute_result"
    }
   ],
   "source": [
    "def crouse(phi,factor=2):\n",
    "    # finer[N=64] -> crouser[N=32]\n",
    "    N = int( phi.shape[0] )\n",
    "    need_dims = int( ( (phi.shape[0])-1 ) / factor )\n",
    "    phi_new = np.zeros(need_dims+1)\n",
    "    print(\"down -> new phi dimension is \"+ str( phi_new.shape[0] )   )\n",
    "    for j in range(1,need_dims):\n",
    "        phi_new[j] = 0.25 * (phi[2*j-1] + 2*phi[2*j] + phi[2*j+1])\n",
    "    \n",
    "    # print(j)\n",
    "    return phi_new\n",
    "\n",
    "def fine(phi,factor=2):\n",
    "    # crouser[N=32] -> finer[N=64] \n",
    "    N = int( phi.shape[0] )\n",
    "    need_dims = int( ( (phi.shape[0])-1 ) * factor )\n",
    "    phi_new = np.zeros(need_dims+1)\n",
    "    print(\"up   -> new phi dimension is \"+ str( phi_new.shape[0] )   )\n",
    "    for j in range(0,N-1):\n",
    "        phi_new[2*j]     = phi[j]\n",
    "        phi_new[2*j + 1] = 0.5 * (phi[j] + phi[j+1])\n",
    "    \n",
    "    # print(j)\n",
    "    return phi_new\n",
    "# check error, during down and up (%)\n",
    "( fine(crouse(gc()[0])) - gc()[0] )/ gc()[0]"
   ]
  }
 ],
 "metadata": {
  "kernelspec": {
   "display_name": "Python 3.7.6 64-bit ('from_WSL': conda)",
   "language": "python",
   "name": "python37664bitfromwslconda9f4e0731b71c446bb7f7ab9be96dd060"
  },
  "language_info": {
   "codemirror_mode": {
    "name": "ipython",
    "version": 3
   },
   "file_extension": ".py",
   "mimetype": "text/x-python",
   "name": "python",
   "nbconvert_exporter": "python",
   "pygments_lexer": "ipython3",
   "version": "3.7.6"
  }
 },
 "nbformat": 4,
 "nbformat_minor": 4
}
