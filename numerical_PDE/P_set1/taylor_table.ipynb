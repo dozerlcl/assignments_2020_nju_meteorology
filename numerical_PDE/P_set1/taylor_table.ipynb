{
 "metadata": {
  "language_info": {
   "codemirror_mode": {
    "name": "ipython",
    "version": 3
   },
   "file_extension": ".py",
   "mimetype": "text/x-python",
   "name": "python",
   "nbconvert_exporter": "python",
   "pygments_lexer": "ipython3",
   "version": "3.7.6-final"
  },
  "orig_nbformat": 2,
  "kernelspec": {
   "name": "python37664bitfromwslconda9f4e0731b71c446bb7f7ab9be96dd060",
   "display_name": "Python 3.7.6 64-bit ('from_WSL': conda)"
  }
 },
 "nbformat": 4,
 "nbformat_minor": 2,
 "cells": [
  {
   "source": [
    "用符号计算sympy做taylor table\n",
    "    <br>函数参考：https://github.com/dongli/ipynb-files/blob/master/taylor_diff_formula.ipynb"
   ],
   "cell_type": "markdown",
   "metadata": {}
  },
  {
   "source": [
    "from sympy import *\n",
    "from pprint import pprint\n",
    "h = symbols('Delta'); f = Function('f')\n",
    "def taylor(f, x, n):\n",
    "\tif x == 0:\n",
    "\t\treturn [1 if i == 0 else 0 for i in range(n+1)]\n",
    "\telse:\n",
    "\t\treturn [list(x.as_coefficients_dict().values())[0] for x in f(x).series(x, x0=0, n=n+1).as_ordered_terms()][:-1]"
   ],
   "cell_type": "code",
   "metadata": {},
   "execution_count": 10,
   "outputs": []
  },
  {
   "cell_type": "code",
   "execution_count": 11,
   "metadata": {
    "tags": []
   },
   "outputs": [
    {
     "output_type": "stream",
     "name": "stdout",
     "text": "construct matrix:\nMatrix([\n[   1, 1,   1,   1],\n[  -1, 0,   1,   2],\n[ 1/2, 0, 1/2,   2],\n[-1/6, 0, 1/6, 4/3]])\nresult:\n[1/3, 1/2, -1, 1/6]\n"
    }
   ],
   "source": [
    "# 1st order difference formula\n",
    "print('construct matrix:')\n",
    "M = Matrix([\n",
    "\ttaylor(f, -1 * h, 3), # xj -  delta : a-1\n",
    " \ttaylor(f,      0, 3), # xj          : a0\n",
    "    taylor(f,  1 * h, 3), # xj +  delta : a1\n",
    "    taylor(f,  2 * h, 3)  # xj + 2delta : a2\n",
    "]).transpose()\n",
    "pprint(M)\n",
    "w = list(M.inv() * Matrix([0, -1, 0, 0]))\n",
    "\n",
    "print(\"result:\")\n",
    "pprint(w)\n"
   ]
  }
 ]
}