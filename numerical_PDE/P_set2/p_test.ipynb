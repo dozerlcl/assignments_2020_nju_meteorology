{
 "metadata": {
  "language_info": {
   "codemirror_mode": {
    "name": "ipython",
    "version": 3
   },
   "file_extension": ".py",
   "mimetype": "text/x-python",
   "name": "python",
   "nbconvert_exporter": "python",
   "pygments_lexer": "ipython3",
   "version": "3.7.6-final"
  },
  "orig_nbformat": 2,
  "kernelspec": {
   "name": "python37664bitfromwsla20dd70eb6634bba8aa075bcfe796a34",
   "display_name": "Python 3.7.6 64-bit ('from_WSL')"
  }
 },
 "nbformat": 4,
 "nbformat_minor": 2,
 "cells": [
  {
   "cell_type": "code",
   "execution_count": 1,
   "metadata": {},
   "outputs": [],
   "source": [
    "import numpy as np\n",
    "import matplotlib.pyplot as plt"
   ]
  },
  {
   "cell_type": "code",
   "execution_count": 10,
   "metadata": {
    "tags": []
   },
   "outputs": [
    {
     "output_type": "stream",
     "name": "stdout",
     "text": "0.9600040812162026 1.0408121620242836\n"
    }
   ],
   "source": [
    "cr = np.linspace(0,1,100)\n",
    "kx = np.pi\n",
    "g = (2*cr - 1)**2 - 4*cr*np.cos(kx)*(2*cr-1) + 4*cr**2\n",
    "print(g[49],g[50])"
   ]
  },
  {
   "cell_type": "code",
   "execution_count": 3,
   "metadata": {},
   "outputs": [
    {
     "output_type": "execute_result",
     "data": {
      "text/plain": "9.0"
     },
     "metadata": {},
     "execution_count": 3
    }
   ],
   "source": [
    "g"
   ]
  }
 ]
}